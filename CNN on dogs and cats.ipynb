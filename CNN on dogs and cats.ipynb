{
 "cells": [
  {
   "cell_type": "code",
   "execution_count": 1,
   "metadata": {},
   "outputs": [],
   "source": [
    "import tensorflow as tf\n",
    "from tensorflow import keras\n",
    "import pandas as pd\n",
    "import matplotlib.pyplot as plt \n",
    "from sklearn.model_selection import train_test_split\n",
    "import pydot, graphviz \n",
    "import numpy as np\n",
    "import pandas as pd\n",
    "from tensorflow.keras.preprocessing.image import ImageDataGenerator\n",
    "from tensorflow.keras import models,layers, optimizers\n",
    "from tensorflow.keras.applications import VGG16"
   ]
  },
  {
   "cell_type": "code",
   "execution_count": 2,
   "metadata": {},
   "outputs": [],
   "source": [
    "# save the relevant directories containing the pictures\n",
    "# put an 'r' because the we want forward slash instead of backward slash\n",
    "test_dir = r'C:\\Users\\tanch\\OneDrive\\Documents\\Udemy\\CNN for computer vision\\Learning points\\Convolutional Neural Networks\\Codes for learning\\CNN on colored image\\cats_and_dogs_small\\test'\n",
    "train_dir = r'C:\\Users\\tanch\\OneDrive\\Documents\\Udemy\\CNN for computer vision\\Learning points\\Convolutional Neural Networks\\Codes for learning\\CNN on colored image\\cats_and_dogs_small\\train'\n",
    "validation_dir = r'C:\\Users\\tanch\\OneDrive\\Documents\\Udemy\\CNN for computer vision\\Learning points\\Convolutional Neural Networks\\Codes for learning\\CNN on colored image\\cats_and_dogs_small\\validation'"
   ]
  },
  {
   "cell_type": "markdown",
   "metadata": {},
   "source": [
    "# Data preprocessing"
   ]
  },
  {
   "cell_type": "code",
   "execution_count": 3,
   "metadata": {},
   "outputs": [
    {
     "name": "stdout",
     "output_type": "stream",
     "text": [
      "Found 2000 images belonging to 2 classes.\n",
      "Found 1000 images belonging to 2 classes.\n"
     ]
    }
   ],
   "source": [
    "# create ImageDataGenerator object\n",
    "# specify to rescale pixel values to [0,1]\n",
    "train_datagen = ImageDataGenerator(rescale = 1./255)\n",
    "test_datagen = ImageDataGenerator(rescale = 1./255)\n",
    "\n",
    " # this generator generates data        # directory variable specified earlier\n",
    "train_generator = train_datagen.flow_from_directory(train_dir, \n",
    "                                                    # photos are resized to 150 x 150 \n",
    "                                                   target_size = (150,150),\n",
    "                                                    # IMPT: images are generated in batches of 20\n",
    "                                                   batch_size = 20,\n",
    "                                                   # specify binary classification\n",
    "                                                   class_mode = 'binary')\n",
    "\n",
    "                                                    # directory variable specified earlier\n",
    "validation_generator = test_datagen.flow_from_directory(validation_dir, \n",
    "                                                    # photos are resized to 150 x 150 \n",
    "                                                   target_size = (150,150),\n",
    "                                                    # photos will come in batches of 20\n",
    "                                                   batch_size = 20,\n",
    "                                                   # specify binary classification\n",
    "                                                   class_mode = 'binary')"
   ]
  },
  {
   "cell_type": "markdown",
   "metadata": {},
   "source": [
    "# Building CNN"
   ]
  },
  {
   "cell_type": "code",
   "execution_count": 4,
   "metadata": {},
   "outputs": [],
   "source": [
    "# specifying CNN model architecture\n",
    "model = models.Sequential()\n",
    "                        # using 32 filters of size 3x3  NOTE: default stride=1, default padding = 'valid'\n",
    "model.add(layers.Conv2D( 32, (3,3), activation='relu',\n",
    "                          # images were resized to 150x150 earlier\n",
    "                        # 3 because images are colored\n",
    "                          input_shape=(150,150,3)))\n",
    "# each convolution layer has its own max pooling layer\n",
    "model.add(layers.MaxPooling2D((2,2)))\n",
    "\n",
    "                        # 64 filters of size 3x3  \n",
    "model.add(layers.Conv2D( 64, (3,3), activation='relu',input_shape=(150,150,3)))\n",
    "model.add(layers.MaxPooling2D((2,2)))\n",
    "\n",
    "                        # 128 filters of size 3x3  \n",
    "model.add(layers.Conv2D( 128, (3,3), activation='relu',input_shape=(150,150,3)))\n",
    "model.add(layers.MaxPooling2D((2,2)))\n",
    "\n",
    "                        # 128 filters of size 3x3  \n",
    "model.add(layers.Conv2D( 128, (3,3), activation='relu',input_shape=(150,150,3)))\n",
    "model.add(layers.MaxPooling2D((2,2)))\n",
    "\n",
    "# flatten to single array\n",
    "model.add(layers.Flatten())\n",
    "\n",
    "# 512 neuron hidden layer\n",
    "model.add(layers.Dense(512, activation='relu'))\n",
    "\n",
    "# 1 neuron output layer for binary classification\n",
    "# sigmoid activation for binary classification\n",
    "model.add(layers.Dense(1, activation='sigmoid'))"
   ]
  },
  {
   "cell_type": "code",
   "execution_count": 5,
   "metadata": {},
   "outputs": [
    {
     "name": "stdout",
     "output_type": "stream",
     "text": [
      "Model: \"sequential\"\n",
      "_________________________________________________________________\n",
      "Layer (type)                 Output Shape              Param #   \n",
      "=================================================================\n",
      "conv2d (Conv2D)              (None, 148, 148, 32)      896       \n",
      "_________________________________________________________________\n",
      "max_pooling2d (MaxPooling2D) (None, 74, 74, 32)        0         \n",
      "_________________________________________________________________\n",
      "conv2d_1 (Conv2D)            (None, 72, 72, 64)        18496     \n",
      "_________________________________________________________________\n",
      "max_pooling2d_1 (MaxPooling2 (None, 36, 36, 64)        0         \n",
      "_________________________________________________________________\n",
      "conv2d_2 (Conv2D)            (None, 34, 34, 128)       73856     \n",
      "_________________________________________________________________\n",
      "max_pooling2d_2 (MaxPooling2 (None, 17, 17, 128)       0         \n",
      "_________________________________________________________________\n",
      "conv2d_3 (Conv2D)            (None, 15, 15, 128)       147584    \n",
      "_________________________________________________________________\n",
      "max_pooling2d_3 (MaxPooling2 (None, 7, 7, 128)         0         \n",
      "_________________________________________________________________\n",
      "flatten (Flatten)            (None, 6272)              0         \n",
      "_________________________________________________________________\n",
      "dense (Dense)                (None, 512)               3211776   \n",
      "_________________________________________________________________\n",
      "dense_1 (Dense)              (None, 1)                 513       \n",
      "=================================================================\n",
      "Total params: 3,453,121\n",
      "Trainable params: 3,453,121\n",
      "Non-trainable params: 0\n",
      "_________________________________________________________________\n"
     ]
    }
   ],
   "source": [
    "model.summary()"
   ]
  },
  {
   "cell_type": "code",
   "execution_count": 6,
   "metadata": {},
   "outputs": [],
   "source": [
    "model.compile(loss='binary_crossentropy',\n",
    "              # RMSprop used over sgd    # learning rate set to 0.0001\n",
    "             optimizer= optimizers.RMSprop(lr=1e-4),\n",
    "             metrics=['acc'])"
   ]
  },
  {
   "cell_type": "code",
   "execution_count": 7,
   "metadata": {
    "scrolled": true
   },
   "outputs": [
    {
     "name": "stdout",
     "output_type": "stream",
     "text": [
      "WARNING:tensorflow:From <ipython-input-7-1dd1c2e963cd>:9: Model.fit_generator (from tensorflow.python.keras.engine.training) is deprecated and will be removed in a future version.\n",
      "Instructions for updating:\n",
      "Please use Model.fit, which supports generators.\n",
      "WARNING:tensorflow:sample_weight modes were coerced from\n",
      "  ...\n",
      "    to  \n",
      "  ['...']\n",
      "WARNING:tensorflow:sample_weight modes were coerced from\n",
      "  ...\n",
      "    to  \n",
      "  ['...']\n",
      "Train for 100 steps, validate for 50 steps\n",
      "Epoch 1/20\n",
      "100/100 [==============================] - 67s 667ms/step - loss: 0.6925 - acc: 0.5325 - val_loss: 0.6854 - val_acc: 0.5260\n",
      "Epoch 2/20\n",
      "100/100 [==============================] - 65s 648ms/step - loss: 0.6568 - acc: 0.6210 - val_loss: 0.7047 - val_acc: 0.5440\n",
      "Epoch 3/20\n",
      "100/100 [==============================] - 77s 766ms/step - loss: 0.6105 - acc: 0.6580 - val_loss: 0.6184 - val_acc: 0.6560\n",
      "Epoch 4/20\n",
      "100/100 [==============================] - 64s 639ms/step - loss: 0.5738 - acc: 0.7080 - val_loss: 0.6443 - val_acc: 0.6360\n",
      "Epoch 5/20\n",
      "100/100 [==============================] - 67s 673ms/step - loss: 0.5489 - acc: 0.7160 - val_loss: 0.5854 - val_acc: 0.6890\n",
      "Epoch 6/20\n",
      "100/100 [==============================] - 65s 654ms/step - loss: 0.5164 - acc: 0.7405 - val_loss: 0.7063 - val_acc: 0.6210\n",
      "Epoch 7/20\n",
      "100/100 [==============================] - 66s 658ms/step - loss: 0.4957 - acc: 0.7650 - val_loss: 0.6088 - val_acc: 0.6760\n",
      "Epoch 8/20\n",
      "100/100 [==============================] - 64s 639ms/step - loss: 0.4674 - acc: 0.7785 - val_loss: 0.5599 - val_acc: 0.7160\n",
      "Epoch 9/20\n",
      "100/100 [==============================] - 66s 659ms/step - loss: 0.4442 - acc: 0.7990 - val_loss: 0.5575 - val_acc: 0.7110\n",
      "Epoch 10/20\n",
      "100/100 [==============================] - 64s 640ms/step - loss: 0.4161 - acc: 0.8105 - val_loss: 0.5553 - val_acc: 0.7230\n",
      "Epoch 11/20\n",
      "100/100 [==============================] - 64s 639ms/step - loss: 0.3918 - acc: 0.8205 - val_loss: 0.5718 - val_acc: 0.7250\n",
      "Epoch 12/20\n",
      "100/100 [==============================] - 73s 727ms/step - loss: 0.3754 - acc: 0.8390 - val_loss: 0.5780 - val_acc: 0.7140\n",
      "Epoch 13/20\n",
      "100/100 [==============================] - 66s 661ms/step - loss: 0.3384 - acc: 0.8510 - val_loss: 0.5657 - val_acc: 0.7200\n",
      "Epoch 14/20\n",
      "100/100 [==============================] - 69s 685ms/step - loss: 0.3116 - acc: 0.8755 - val_loss: 0.5912 - val_acc: 0.7400\n",
      "Epoch 15/20\n",
      "100/100 [==============================] - 66s 658ms/step - loss: 0.2936 - acc: 0.8770 - val_loss: 0.5843 - val_acc: 0.7320\n",
      "Epoch 16/20\n",
      "100/100 [==============================] - 67s 671ms/step - loss: 0.2700 - acc: 0.8950 - val_loss: 0.6432 - val_acc: 0.7270\n",
      "Epoch 17/20\n",
      "100/100 [==============================] - 63s 628ms/step - loss: 0.2500 - acc: 0.9000 - val_loss: 0.6666 - val_acc: 0.7100\n",
      "Epoch 18/20\n",
      "100/100 [==============================] - 62s 623ms/step - loss: 0.2399 - acc: 0.9050 - val_loss: 0.7239 - val_acc: 0.6940\n",
      "Epoch 19/20\n",
      "100/100 [==============================] - 67s 669ms/step - loss: 0.2095 - acc: 0.9140 - val_loss: 0.6501 - val_acc: 0.7340\n",
      "Epoch 20/20\n",
      "100/100 [==============================] - 66s 656ms/step - loss: 0.1869 - acc: 0.9265 - val_loss: 0.8000 - val_acc: 0.7200\n"
     ]
    }
   ],
   "source": [
    "                    # training data comes from the train_generator\n",
    "history = model.fit_generator(train_generator,\n",
    "                    # IMPT: 20 x 100 = 2000 images in training set\n",
    "                   steps_per_epoch=100,\n",
    "                   epochs=20,\n",
    "                    # validation data comes from the validation generator\n",
    "                   validation_data=validation_generator,\n",
    "                    # IMPT 20 x 50 = 1000 images in the validation set\n",
    "                   validation_steps = 50)"
   ]
  },
  {
   "cell_type": "code",
   "execution_count": 8,
   "metadata": {},
   "outputs": [
    {
     "data": {
      "image/png": "[encoded data removed]",
      "text/plain": [
       "<Figure size 576x360 with 1 Axes>"
      ]
     },
     "metadata": {
      "needs_background": "light"
     },
     "output_type": "display_data"
    }
   ],
   "source": [
    "# visualise the training progression\n",
    "pd.DataFrame(history.history).plot(figsize=(8,5))\n",
    "plt.grid(True)\n",
    "plt.gca().set_ylim(0,1)\n",
    "plt.show()"
   ]
  },
  {
   "cell_type": "markdown",
   "metadata": {},
   "source": [
    "- evident **overfitting as seen from the increasing difference between training and validation accruacy**"
   ]
  },
  {
   "cell_type": "code",
   "execution_count": 9,
   "metadata": {},
   "outputs": [],
   "source": [
    "# save model\n",
    "model.save('CNN_model.h5')"
   ]
  },
  {
   "cell_type": "markdown",
   "metadata": {},
   "source": [
    "# Improving the model with Data augmentation and Dropout"
   ]
  },
  {
   "cell_type": "code",
   "execution_count": 10,
   "metadata": {},
   "outputs": [
    {
     "name": "stdout",
     "output_type": "stream",
     "text": [
      "Found 2000 images belonging to 2 classes.\n",
      "Found 1000 images belonging to 2 classes.\n"
     ]
    }
   ],
   "source": [
    "# create ImageDataGenerator that augments image\n",
    "# specify to rescale pixel values to [0,1]\n",
    "train_datagen_augmented = ImageDataGenerator(rescale = 1./255,\n",
    "                                   # the generator can choose any value within these ranges to augment the data\n",
    "                                  rotation_range=40,\n",
    "                                  width_shift_range=0.2,\n",
    "                                  height_shift_range=0.2,\n",
    "                                  shear_range=0.2,\n",
    "                                  zoom_range=0.2,\n",
    "                                  horizontal_flip=True)\n",
    "\n",
    "# data augmentation NOT required in validation set\n",
    "test_datagen = ImageDataGenerator(rescale = 1./255)\n",
    "\n",
    " # this generator generates data        # directory variable specified earlier\n",
    "train_generator_augmented = train_datagen_augmented.flow_from_directory(train_dir, \n",
    "                                                    # photos are resized to 150 x 150 \n",
    "                                                   target_size = (150,150),\n",
    "                                                    # IMPT: images are generated in batches of 20\n",
    "                                                   batch_size = 20,\n",
    "                                                   # specify binary classification\n",
    "                                                   class_mode = 'binary')\n",
    "\n",
    "                                                    # directory variable specified earlier\n",
    "validation_generator = test_datagen.flow_from_directory(validation_dir, \n",
    "                                                    # photos are resized to 150 x 150 \n",
    "                                                   target_size = (150,150),\n",
    "                                                    # photos will come in batches of 20\n",
    "                                                   batch_size = 20,\n",
    "                                                   # specify binary classification\n",
    "                                                   class_mode = 'binary')"
   ]
  },
  {
   "cell_type": "code",
   "execution_count": 11,
   "metadata": {},
   "outputs": [],
   "source": [
    "# model_2 with dropout 50%\n",
    "model_2 = models.Sequential()\n",
    "                        # using 32 filters of size 3x3  NOTE: default stride=1, default padding = 'valid'\n",
    "model_2.add(layers.Conv2D( 32, (3,3), activation='relu',\n",
    "                          # images were resized to 150x150 earlier\n",
    "                        # 3 because images are colored\n",
    "                          input_shape=(150,150,3)))\n",
    "# each convolution layer has its own max pooling layer\n",
    "model_2.add(layers.MaxPooling2D((2,2)))\n",
    "\n",
    "                        # 64 filters of size 3x3  \n",
    "model_2.add(layers.Conv2D( 64, (3,3), activation='relu',input_shape=(150,150,3)))\n",
    "model_2.add(layers.MaxPooling2D((2,2)))\n",
    "\n",
    "                        # 128 filters of size 3x3  \n",
    "model_2.add(layers.Conv2D( 128, (3,3), activation='relu',input_shape=(150,150,3)))\n",
    "model_2.add(layers.MaxPooling2D((2,2)))\n",
    "\n",
    "                        # 128 filters of size 3x3  \n",
    "model_2.add(layers.Conv2D( 128, (3,3), activation='relu',input_shape=(150,150,3)))\n",
    "model_2.add(layers.MaxPooling2D((2,2)))\n",
    "\n",
    "# flatten to single array\n",
    "model_2.add(layers.Flatten())\n",
    "\n",
    "# in every epoch 50% of neurons are deactivated to reduce interneuron dependency and overfitting\n",
    "model_2.add(layers.Dropout(0.5))\n",
    "\n",
    "# 512 neuron hidden layer\n",
    "model_2.add(layers.Dense(512, activation='relu'))\n",
    "\n",
    "# 1 neuron output layer for binary classification\n",
    "# sigmoid activation for binary classification\n",
    "model_2.add(layers.Dense(1, activation='sigmoid'))"
   ]
  },
  {
   "cell_type": "code",
   "execution_count": 12,
   "metadata": {},
   "outputs": [],
   "source": [
    "model_2.compile(loss='binary_crossentropy',\n",
    "              # RMSprop used over sgd    # learning rate set to 0.0001\n",
    "             optimizer= optimizers.RMSprop(lr=1e-4),\n",
    "             metrics=['acc'])"
   ]
  },
  {
   "cell_type": "code",
   "execution_count": 13,
   "metadata": {
    "scrolled": true
   },
   "outputs": [
    {
     "name": "stdout",
     "output_type": "stream",
     "text": [
      "WARNING:tensorflow:sample_weight modes were coerced from\n",
      "  ...\n",
      "    to  \n",
      "  ['...']\n",
      "WARNING:tensorflow:sample_weight modes were coerced from\n",
      "  ...\n",
      "    to  \n",
      "  ['...']\n",
      "Train for 100 steps, validate for 50 steps\n",
      "Epoch 1/20\n",
      "100/100 [==============================] - 76s 763ms/step - loss: 0.6933 - acc: 0.5150 - val_loss: 0.6851 - val_acc: 0.5430\n",
      "Epoch 2/20\n",
      "100/100 [==============================] - 66s 663ms/step - loss: 0.6848 - acc: 0.5510 - val_loss: 0.6910 - val_acc: 0.5040\n",
      "Epoch 3/20\n",
      "100/100 [==============================] - 80s 803ms/step - loss: 0.6782 - acc: 0.5720 - val_loss: 0.6665 - val_acc: 0.5680\n",
      "Epoch 4/20\n",
      "100/100 [==============================] - 66s 659ms/step - loss: 0.6608 - acc: 0.6070 - val_loss: 0.6746 - val_acc: 0.5660\n",
      "Epoch 5/20\n",
      "100/100 [==============================] - 67s 669ms/step - loss: 0.6488 - acc: 0.6245 - val_loss: 0.6112 - val_acc: 0.6570\n",
      "Epoch 6/20\n",
      "100/100 [==============================] - 65s 649ms/step - loss: 0.6294 - acc: 0.6405 - val_loss: 0.6111 - val_acc: 0.6560\n",
      "Epoch 7/20\n",
      "100/100 [==============================] - 63s 628ms/step - loss: 0.6245 - acc: 0.6525 - val_loss: 0.6144 - val_acc: 0.6440\n",
      "Epoch 8/20\n",
      "100/100 [==============================] - 69s 689ms/step - loss: 0.6120 - acc: 0.6620 - val_loss: 0.5782 - val_acc: 0.7030\n",
      "Epoch 9/20\n",
      "100/100 [==============================] - 63s 630ms/step - loss: 0.6104 - acc: 0.6585 - val_loss: 0.5904 - val_acc: 0.6690\n",
      "Epoch 10/20\n",
      "100/100 [==============================] - 66s 657ms/step - loss: 0.5955 - acc: 0.6830 - val_loss: 0.5803 - val_acc: 0.6840\n",
      "Epoch 11/20\n",
      "100/100 [==============================] - 62s 619ms/step - loss: 0.5919 - acc: 0.6860 - val_loss: 0.5374 - val_acc: 0.7270\n",
      "Epoch 12/20\n",
      "100/100 [==============================] - 62s 623ms/step - loss: 0.5848 - acc: 0.6880 - val_loss: 0.5416 - val_acc: 0.7150\n",
      "Epoch 13/20\n",
      "100/100 [==============================] - 75s 752ms/step - loss: 0.5752 - acc: 0.7000 - val_loss: 0.5848 - val_acc: 0.6740\n",
      "Epoch 14/20\n",
      "100/100 [==============================] - 61s 607ms/step - loss: 0.5705 - acc: 0.7000 - val_loss: 0.5511 - val_acc: 0.7200\n",
      "Epoch 15/20\n",
      "100/100 [==============================] - 60s 604ms/step - loss: 0.5685 - acc: 0.7055 - val_loss: 0.5350 - val_acc: 0.7280\n",
      "Epoch 16/20\n",
      "100/100 [==============================] - 62s 621ms/step - loss: 0.5542 - acc: 0.7165 - val_loss: 0.5325 - val_acc: 0.7270\n",
      "Epoch 17/20\n",
      "100/100 [==============================] - 60s 605ms/step - loss: 0.5495 - acc: 0.7275 - val_loss: 0.5216 - val_acc: 0.7390\n",
      "Epoch 18/20\n",
      "100/100 [==============================] - 63s 631ms/step - loss: 0.5632 - acc: 0.7080 - val_loss: 0.5123 - val_acc: 0.7400\n",
      "Epoch 19/20\n",
      "100/100 [==============================] - 62s 623ms/step - loss: 0.5557 - acc: 0.7155 - val_loss: 0.5445 - val_acc: 0.7190\n",
      "Epoch 20/20\n",
      "100/100 [==============================] - 62s 616ms/step - loss: 0.5528 - acc: 0.7235 - val_loss: 0.5720 - val_acc: 0.7030\n"
     ]
    }
   ],
   "source": [
    "                    # model is fit into augmented data\n",
    "history = model_2.fit_generator(train_generator_augmented,\n",
    "                    # IMPT: 32 x 100 = 3200 augmented images \n",
    "                   steps_per_epoch=100,\n",
    "                   epochs=20,\n",
    "                    # validation data comes from the validation generator\n",
    "                   validation_data=validation_generator,\n",
    "                    # IMPT 32 x 50 = 1600 images in the validation set\n",
    "                   validation_steps = 50)"
   ]
  },
  {
   "cell_type": "code",
   "execution_count": 14,
   "metadata": {
    "scrolled": false
   },
   "outputs": [
    {
     "data": {
      "image/png": "[encoded data removed]",
      "text/plain": [
       "<Figure size 576x360 with 1 Axes>"
      ]
     },
     "metadata": {
      "needs_background": "light"
     },
     "output_type": "display_data"
    }
   ],
   "source": [
    "# visualise the training progression\n",
    "pd.DataFrame(history.history).plot(figsize=(8,5))\n",
    "plt.grid(True)\n",
    "plt.gca().set_ylim(0,1)\n",
    "plt.show()"
   ]
  },
  {
   "cell_type": "markdown",
   "metadata": {},
   "source": [
    "- clearly, **with the augmentation and dropot, overfitting is much lesser**"
   ]
  },
  {
   "cell_type": "code",
   "execution_count": 15,
   "metadata": {},
   "outputs": [],
   "source": [
    "# save model\n",
    "model_2.save('CNN_model_augmentation_plus_dropout.h5')"
   ]
  },
  {
   "cell_type": "markdown",
   "metadata": {},
   "source": [
    "# Improving mode with Transfer Learning"
   ]
  },
  {
   "cell_type": "code",
   "execution_count": 16,
   "metadata": {},
   "outputs": [
    {
     "name": "stdout",
     "output_type": "stream",
     "text": [
      "Found 2000 images belonging to 2 classes.\n",
      "Found 1000 images belonging to 2 classes.\n"
     ]
    }
   ],
   "source": [
    "# create ImageDataGenerator that augments image\n",
    "# specify to rescale pixel values to [0,1]\n",
    "train_datagen_augmented = ImageDataGenerator(rescale = 1./255,\n",
    "                                   # the generator can choose any value within these ranges to augment the data\n",
    "                                  rotation_range=40,\n",
    "                                  width_shift_range=0.2,\n",
    "                                  height_shift_range=0.2,\n",
    "                                  shear_range=0.2,\n",
    "                                  zoom_range=0.2,\n",
    "                                  horizontal_flip=True)\n",
    "\n",
    "# data augmentation NOT required in validation set\n",
    "test_datagen = ImageDataGenerator(rescale = 1./255)\n",
    "\n",
    " # this generator generates data        # directory variable specified earlier\n",
    "train_generator_augmented = train_datagen_augmented.flow_from_directory(train_dir, \n",
    "                                                    # photos are resized to 150 x 150 \n",
    "                                                   target_size = (150,150),\n",
    "                                                    # IMPT: images are generated in batches of 20\n",
    "                                                   batch_size = 20,\n",
    "                                                   # specify binary classification\n",
    "                                                   class_mode = 'binary')\n",
    "\n",
    "                                                    # directory variable specified earlier\n",
    "validation_generator = test_datagen.flow_from_directory(validation_dir, \n",
    "                                                    # photos are resized to 150 x 150 \n",
    "                                                   target_size = (150,150),\n",
    "                                                    # photos will come in batches of 20\n",
    "                                                   batch_size = 20,\n",
    "                                                   # specify binary classification\n",
    "                                                   class_mode = 'binary')"
   ]
  },
  {
   "cell_type": "code",
   "execution_count": 17,
   "metadata": {},
   "outputs": [],
   "source": [
    "# convotional base of VGG16 is used instead of creating our own \n",
    "                    # these weights are the VGG16 final weights from imagenet competition\n",
    "conv_base = VGG16( weights = 'imagenet',\n",
    "                  # specify that we only want the convolution base\n",
    "                 include_top = False,\n",
    "                  # colored input was resized to 150 x 150 earlier\n",
    "                 input_shape = (150,150,3))"
   ]
  },
  {
   "cell_type": "code",
   "execution_count": 18,
   "metadata": {
    "scrolled": true
   },
   "outputs": [
    {
     "name": "stdout",
     "output_type": "stream",
     "text": [
      "Model: \"vgg16\"\n",
      "_________________________________________________________________\n",
      "Layer (type)                 Output Shape              Param #   \n",
      "=================================================================\n",
      "input_1 (InputLayer)         [(None, 150, 150, 3)]     0         \n",
      "_________________________________________________________________\n",
      "block1_conv1 (Conv2D)        (None, 150, 150, 64)      1792      \n",
      "_________________________________________________________________\n",
      "block1_conv2 (Conv2D)        (None, 150, 150, 64)      36928     \n",
      "_________________________________________________________________\n",
      "block1_pool (MaxPooling2D)   (None, 75, 75, 64)        0         \n",
      "_________________________________________________________________\n",
      "block2_conv1 (Conv2D)        (None, 75, 75, 128)       73856     \n",
      "_________________________________________________________________\n",
      "block2_conv2 (Conv2D)        (None, 75, 75, 128)       147584    \n",
      "_________________________________________________________________\n",
      "block2_pool (MaxPooling2D)   (None, 37, 37, 128)       0         \n",
      "_________________________________________________________________\n",
      "block3_conv1 (Conv2D)        (None, 37, 37, 256)       295168    \n",
      "_________________________________________________________________\n",
      "block3_conv2 (Conv2D)        (None, 37, 37, 256)       590080    \n",
      "_________________________________________________________________\n",
      "block3_conv3 (Conv2D)        (None, 37, 37, 256)       590080    \n",
      "_________________________________________________________________\n",
      "block3_pool (MaxPooling2D)   (None, 18, 18, 256)       0         \n",
      "_________________________________________________________________\n",
      "block4_conv1 (Conv2D)        (None, 18, 18, 512)       1180160   \n",
      "_________________________________________________________________\n",
      "block4_conv2 (Conv2D)        (None, 18, 18, 512)       2359808   \n",
      "_________________________________________________________________\n",
      "block4_conv3 (Conv2D)        (None, 18, 18, 512)       2359808   \n",
      "_________________________________________________________________\n",
      "block4_pool (MaxPooling2D)   (None, 9, 9, 512)         0         \n",
      "_________________________________________________________________\n",
      "block5_conv1 (Conv2D)        (None, 9, 9, 512)         2359808   \n",
      "_________________________________________________________________\n",
      "block5_conv2 (Conv2D)        (None, 9, 9, 512)         2359808   \n",
      "_________________________________________________________________\n",
      "block5_conv3 (Conv2D)        (None, 9, 9, 512)         2359808   \n",
      "_________________________________________________________________\n",
      "block5_pool (MaxPooling2D)   (None, 4, 4, 512)         0         \n",
      "=================================================================\n",
      "Total params: 14,714,688\n",
      "Trainable params: 14,714,688\n",
      "Non-trainable params: 0\n",
      "_________________________________________________________________\n"
     ]
    }
   ],
   "source": [
    "conv_base.summary()"
   ]
  },
  {
   "cell_type": "code",
   "execution_count": 19,
   "metadata": {},
   "outputs": [],
   "source": [
    "# before trainging, decide whether to let the convolutoon layer be trainable\n",
    "conv_base.trainable = False"
   ]
  },
  {
   "cell_type": "code",
   "execution_count": 20,
   "metadata": {},
   "outputs": [],
   "source": [
    "# initialise the model w VGG16 convolution base\n",
    "model_3 = models.Sequential()\n",
    "model_3.add(conv_base)\n",
    "\n",
    "# flatten to single array\n",
    "model_3.add(layers.Flatten())\n",
    "\n",
    "# 256 neuron hidden layer\n",
    "model_3.add(layers.Dense(256, activation='relu'))\n",
    "\n",
    "# 1 neuron output layer for binary classification\n",
    "# sigmoid activation for binary classification\n",
    "model_3.add(layers.Dense(1, activation='sigmoid'))"
   ]
  },
  {
   "cell_type": "code",
   "execution_count": 21,
   "metadata": {},
   "outputs": [
    {
     "name": "stdout",
     "output_type": "stream",
     "text": [
      "Model: \"sequential_2\"\n",
      "_________________________________________________________________\n",
      "Layer (type)                 Output Shape              Param #   \n",
      "=================================================================\n",
      "vgg16 (Model)                (None, 4, 4, 512)         14714688  \n",
      "_________________________________________________________________\n",
      "flatten_2 (Flatten)          (None, 8192)              0         \n",
      "_________________________________________________________________\n",
      "dense_4 (Dense)              (None, 256)               2097408   \n",
      "_________________________________________________________________\n",
      "dense_5 (Dense)              (None, 1)                 257       \n",
      "=================================================================\n",
      "Total params: 16,812,353\n",
      "Trainable params: 2,097,665\n",
      "Non-trainable params: 14,714,688\n",
      "_________________________________________________________________\n"
     ]
    }
   ],
   "source": [
    "# by freezing the convolution base, there are 14 mil less params to train\n",
    "model_3.summary()"
   ]
  },
  {
   "cell_type": "code",
   "execution_count": 19,
   "metadata": {},
   "outputs": [
    {
     "name": "stdout",
     "output_type": "stream",
     "text": [
      "Model: \"vgg16\"\n",
      "_________________________________________________________________\n",
      "Layer (type)                 Output Shape              Param #   \n",
      "=================================================================\n",
      "input_1 (InputLayer)         [(None, 150, 150, 3)]     0         \n",
      "_________________________________________________________________\n",
      "block1_conv1 (Conv2D)        (None, 150, 150, 64)      1792      \n",
      "_________________________________________________________________\n",
      "block1_conv2 (Conv2D)        (None, 150, 150, 64)      36928     \n",
      "_________________________________________________________________\n",
      "block1_pool (MaxPooling2D)   (None, 75, 75, 64)        0         \n",
      "_________________________________________________________________\n",
      "block2_conv1 (Conv2D)        (None, 75, 75, 128)       73856     \n",
      "_________________________________________________________________\n",
      "block2_conv2 (Conv2D)        (None, 75, 75, 128)       147584    \n",
      "_________________________________________________________________\n",
      "block2_pool (MaxPooling2D)   (None, 37, 37, 128)       0         \n",
      "_________________________________________________________________\n",
      "block3_conv1 (Conv2D)        (None, 37, 37, 256)       295168    \n",
      "_________________________________________________________________\n",
      "block3_conv2 (Conv2D)        (None, 37, 37, 256)       590080    \n",
      "_________________________________________________________________\n",
      "block3_conv3 (Conv2D)        (None, 37, 37, 256)       590080    \n",
      "_________________________________________________________________\n",
      "block3_pool (MaxPooling2D)   (None, 18, 18, 256)       0         \n",
      "_________________________________________________________________\n",
      "block4_conv1 (Conv2D)        (None, 18, 18, 512)       1180160   \n",
      "_________________________________________________________________\n",
      "block4_conv2 (Conv2D)        (None, 18, 18, 512)       2359808   \n",
      "_________________________________________________________________\n",
      "block4_conv3 (Conv2D)        (None, 18, 18, 512)       2359808   \n",
      "_________________________________________________________________\n",
      "block4_pool (MaxPooling2D)   (None, 9, 9, 512)         0         \n",
      "_________________________________________________________________\n",
      "block5_conv1 (Conv2D)        (None, 9, 9, 512)         2359808   \n",
      "_________________________________________________________________\n",
      "block5_conv2 (Conv2D)        (None, 9, 9, 512)         2359808   \n",
      "_________________________________________________________________\n",
      "block5_conv3 (Conv2D)        (None, 9, 9, 512)         2359808   \n",
      "_________________________________________________________________\n",
      "block5_pool (MaxPooling2D)   (None, 4, 4, 512)         0         \n",
      "=================================================================\n",
      "Total params: 14,714,688\n",
      "Trainable params: 0\n",
      "Non-trainable params: 14,714,688\n",
      "_________________________________________________________________\n"
     ]
    }
   ],
   "source": [
    "conv_base.summary()"
   ]
  },
  {
   "cell_type": "code",
   "execution_count": 22,
   "metadata": {},
   "outputs": [],
   "source": [
    "model_3.compile(loss='binary_crossentropy',\n",
    "              # RMSprop used over sgd    # learning rate set much lower because we are only fine tuning the weights\n",
    "             optimizer= optimizers.RMSprop(lr=2e-5),\n",
    "             metrics=['acc'])"
   ]
  },
  {
   "cell_type": "code",
   "execution_count": 23,
   "metadata": {},
   "outputs": [],
   "source": [
    "# w early stopping we can set epochs to a high number and training will stop itself\n",
    "checkpoint_cb = keras.callbacks.ModelCheckpoint('CNN_VGG16_early_stopping_model.h5',save_best_only = True)\n",
    "                                                # if there are no improvements after 10 epochs training stops\n",
    "early_stopping_cb = keras.callbacks.EarlyStopping(patience = 10,\n",
    "                                                 restore_best_weights = True)"
   ]
  },
  {
   "cell_type": "code",
   "execution_count": 37,
   "metadata": {
    "scrolled": true
   },
   "outputs": [
    {
     "name": "stdout",
     "output_type": "stream",
     "text": [
      "WARNING:tensorflow:sample_weight modes were coerced from\n",
      "  ...\n",
      "    to  \n",
      "  ['...']\n",
      "WARNING:tensorflow:sample_weight modes were coerced from\n",
      "  ...\n",
      "    to  \n",
      "  ['...']\n",
      "Train for 100 steps, validate for 50 steps\n",
      "Epoch 1/2\n",
      "100/100 [==============================] - 954s 10s/step - loss: 0.2941 - acc: 0.8750 - val_loss: 0.2318 - val_acc: 0.8990\n",
      "Epoch 2/2\n",
      "100/100 [==============================] - 908s 9s/step - loss: 0.2832 - acc: 0.8740 - val_loss: 0.2333 - val_acc: 0.8990\n"
     ]
    }
   ],
   "source": [
    "                    # model is fit into augmented data\n",
    "history = model_3.fit_generator(train_generator_augmented,\n",
    "                    # IMPT: 32 x 100 = 3200 augmented images \n",
    "                   steps_per_epoch=100,\n",
    "                   epochs=2,\n",
    "                    # validation data comes from the validation generator\n",
    "                   validation_data=validation_generator,\n",
    "                    # IMPT 32 x 50 = 1600 images in the validation set\n",
    "                   validation_steps = 50,\n",
    "                    # specify to save checkpoint via early stopping\n",
    "                    callbacks= [checkpoint_cb, early_stopping_cb])"
   ]
  },
  {
   "cell_type": "code",
   "execution_count": 38,
   "metadata": {},
   "outputs": [
    {
     "data": {
      "image/png": "[encoded data removed]",
      "text/plain": [
       "<Figure size 576x360 with 1 Axes>"
      ]
     },
     "metadata": {
      "needs_background": "light"
     },
     "output_type": "display_data"
    }
   ],
   "source": [
    "# 31th to 32th epoch\n",
    "pd.DataFrame(history.history).plot(figsize=(8,5))\n",
    "plt.grid(True)\n",
    "plt.gca().set_ylim(0,1)\n",
    "plt.show()"
   ]
  },
  {
   "cell_type": "code",
   "execution_count": 34,
   "metadata": {},
   "outputs": [],
   "source": [
    "# load saved model\n",
    "model_3 = keras.models.load_model('CNN_VGG16_early_stopping_model.h5')"
   ]
  },
  {
   "cell_type": "markdown",
   "metadata": {},
   "source": [
    "- validation has **plateau'ed at 0.90 with very little overfitting**\n",
    "- **setting convolution base to trainable will improve accuracy significantly**, but will also take more time due to more params"
   ]
  }
 ],
 "metadata": {
  "kernelspec": {
   "display_name": "Python 3",
   "language": "python",
   "name": "python3"
  },
  "language_info": {
   "codemirror_mode": {
    "name": "ipython",
    "version": 3
   },
   "file_extension": ".py",
   "mimetype": "text/x-python",
   "name": "python",
   "nbconvert_exporter": "python",
   "pygments_lexer": "ipython3",
   "version": "3.7.4"
  }
 },
 "nbformat": 4,
 "nbformat_minor": 2
}
